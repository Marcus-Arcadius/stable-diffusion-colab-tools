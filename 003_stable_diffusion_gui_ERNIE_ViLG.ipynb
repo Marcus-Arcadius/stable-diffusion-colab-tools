{
  "cells": [
    {
      "cell_type": "markdown",
      "metadata": {
        "id": "view-in-github",
        "colab_type": "text"
      },
      "source": [
        "<a href=\"https://colab.research.google.com/github/karaage0703/stable-diffusion-colab-tools/blob/main/003_stable_diffusion_gui_ERNIE_ViLG.ipynb\" target=\"_parent\"><img src=\"https://colab.research.google.com/assets/colab-badge.svg\" alt=\"Open In Colab\"/></a>"
      ]
    },
    {
      "cell_type": "markdown",
      "metadata": {
        "id": "w-0mHhP4tpTT"
      },
      "source": [
        "# Stable Diffusion GUI Basic ERNIE-ViLG version\n",
        "Stable Diffusion easy and useful GUI tool ERNIE-ViLG version\n",
        "\n",
        "GitHub repository is below:\n",
        "[stable-diffusion-colab-tools](https://github.com/karaage0703/stable-diffusion-colab-tools)"
      ]
    },
    {
      "cell_type": "code",
      "source": [
        "#@title **Download model**\n",
        "#@markdown　Run \n",
        "!pip install -qq paddlepaddle-gpu -U\n",
        "!pip install -qq paddlehub==2.1.0\n",
        "!pip install -qq gradio\n",
        "\n",
        "import os\n",
        "import datetime\n",
        "import paddlehub as hub\n",
        "\n",
        "module = hub.Module(name=\"ernie_vilg\")"
      ],
      "metadata": {
        "id": "fV8g5xifwZj9",
        "cellView": "form"
      },
      "execution_count": null,
      "outputs": []
    },
    {
      "cell_type": "code",
      "source": [
        "#@title **Launch App**\n",
        "#@markdown　Execute and click URL ex: `Running on public URL: https://xxxx.gradio.app` \n",
        "import gradio as gr\n",
        "\n",
        "style_list = ['\\u6CB9\\u753B', '\\u6C34\\u5F69', '\\u7C89\\u7B14\\u753B', '\\u5361\\u901A', '\\u513F\\u7AE5\\u753B', '\\u8721\\u7B14\\u753B', '\\u63A2\\u7D22\\u65E0\\u9650']\n",
        "\n",
        "\n",
        "def infer(prompt, num_images, style_numb):\n",
        "    num_images = int(num_images)\n",
        "    style_numb = int(style_numb)\n",
        "\n",
        "    image_list = []\n",
        "    for num in range(num_images):\n",
        "        images = module.generate_image(text_prompts=[prompt], style=style_list[style_numb], visualization=False)\n",
        "        image_list.append(images[0])\n",
        "\n",
        "    return image_list\n",
        "\n",
        "\n",
        "from IPython.display import clear_output\n",
        "\n",
        "block = gr.Blocks(css=\".container { max-width: 800px; margin: auto; }\")\n",
        "\n",
        "with block as demo:\n",
        "    gr.Markdown(\"<h1><center>Stable Diffusion Tool ERNIE-ViLG</center></h1>\")\n",
        "    gr.Markdown(\n",
        "        'Stable Diffusion useful web tool ERNIE-ViLG version'\n",
        "    )\n",
        "    with gr.Group():\n",
        "        with gr.Box():\n",
        "            gr.Markdown(\n",
        "                'Enter prompt and Run!!'\n",
        "            )\n",
        "            with gr.Row().style(mobile_collapse=False, equal_height=True):\n",
        "\n",
        "                text = gr.Textbox(\n",
        "                    label='Enter prompt', show_label=False, max_lines=1\n",
        "                ).style(\n",
        "                    border=(True, False, True, True),\n",
        "                    rounded=(True, False, False, True),\n",
        "                    container=False,\n",
        "                )\n",
        "                btn = gr.Button(\"Run\").style(\n",
        "                    margin=False,\n",
        "                    rounded=(False, True, True, False),\n",
        "                )\n",
        "\n",
        "        num_images = gr.Number(\n",
        "                    label='Number of images', value=3\n",
        "                )\n",
        "\n",
        "\n",
        "        style_numb = gr.Slider(\n",
        "                    label='Style 0:油画 1:水彩 2:粉笔画(Chalk drawing) 3:卡通(Cartoon) 4:蜡笔画(Crayon drawing) 5:儿童画(Children drawing) 6:探索无限(Explore infinity)', minimum=0, maximum=6, value=0, step=1\n",
        "                )\n",
        "\n",
        "\n",
        "        gallery = gr.Gallery(label=\"Generated images\", show_label=False).style(\n",
        "            grid=[2], height=\"auto\"\n",
        "        )\n",
        "\n",
        "        btn.click(infer,\n",
        "                 inputs=[text, num_images, style_numb], outputs=gallery)\n",
        "\n",
        "    gr.Markdown(\n",
        "        \"\"\"___\n",
        "   <p style='text-align: center'>\n",
        "   Created by CompVis and Stability AI\n",
        "   <br/>\n",
        "   </p>\"\"\"\n",
        "    )\n",
        "\n",
        "clear_output()\n",
        "demo.launch(debug=True)"
      ],
      "metadata": {
        "id": "3O3bN_cE6LCQ",
        "cellView": "form"
      },
      "execution_count": null,
      "outputs": []
    },
    {
      "cell_type": "markdown",
      "source": [
        "## Reference\n",
        "Special Thanks\n",
        "- https://github.com/PaddlePaddle/PaddleHub/blob/752bd02fd490111ca68b6b11320f9f2f78afc1ce/modules/image/text_to_image/ernie_vilg/module.py\n",
        "- https://huggingface.co/spaces/PaddlePaddle/ERNIE-ViLG\n",
        "- https://note.com/npaka/n/ndd549d2ce556\n",
        "- http://cedro3.com/ai/image2image/\n",
        "- https://colab.research.google.com/github/pcuenca/diffusers-examples/blob/main/notebooks/stable-diffusion-seeds.ipynb"
      ],
      "metadata": {
        "id": "8_ieawWDdpjt"
      }
    }
  ],
  "metadata": {
    "accelerator": "GPU",
    "colab": {
      "collapsed_sections": [],
      "machine_shape": "hm",
      "provenance": [],
      "include_colab_link": true
    },
    "gpuClass": "standard",
    "kernelspec": {
      "display_name": "Python 3",
      "name": "python3"
    },
    "language_info": {
      "name": "python"
    }
  },
  "nbformat": 4,
  "nbformat_minor": 0
}